{
 "cells": [
  {
   "cell_type": "markdown",
   "id": "43c7e50f-f883-48f4-af25-a5d9299a2a33",
   "metadata": {},
   "source": [
    "## Task: Develop Models based on Life Expectancy Dataset"
   ]
  },
  {
   "cell_type": "markdown",
   "id": "9c681677-6a65-4438-8692-8ad704aae99c",
   "metadata": {},
   "source": [
    "### 01- Develop Model using Regression for Life Expectancy and use all other columns as features"
   ]
  },
  {
   "cell_type": "markdown",
   "id": "769c2436-859e-44cd-84fa-9fb3a84bad44",
   "metadata": {},
   "source": [
    "### 02- Develop Model using Regression for Life Expectancy and use relevant columns as features"
   ]
  },
  {
   "cell_type": "code",
   "execution_count": null,
   "id": "421a13b4-c365-4cdd-bf2a-9c712e434274",
   "metadata": {},
   "outputs": [],
   "source": []
  }
 ],
 "metadata": {
  "kernelspec": {
   "display_name": "Python 3 (ipykernel)",
   "language": "python",
   "name": "python3"
  },
  "language_info": {
   "codemirror_mode": {
    "name": "ipython",
    "version": 3
   },
   "file_extension": ".py",
   "mimetype": "text/x-python",
   "name": "python",
   "nbconvert_exporter": "python",
   "pygments_lexer": "ipython3",
   "version": "3.12.4"
  }
 },
 "nbformat": 4,
 "nbformat_minor": 5
}
